{
 "cells": [
  {
   "cell_type": "markdown",
   "metadata": {},
   "source": [
    "# Path to the Bench: Where Federal Judges went to Law School\n",
    "\n",
    "by Jerod Sun"
   ]
  },
  {
   "cell_type": "markdown",
   "metadata": {},
   "source": [
    "Which institutions are conductive to becoming a federal judge?\n",
    "\n",
    "Obtaining a federal judicial appointment is considered a prestigious honor among lawyers. Before starting this short project, I had a theory that there were two primary beginnings toward a federal judgeship. First and foremost, a prestigious education. Notwithstanding that, one distinctly local to the district of the court. Without quantitative numbers, I assumed half would've passed through the halls of 3 law schools; namely, Harvard, Yale and Stanford, and the majority of the other half would be from law schools in the district where the court serves. \n",
    "\n",
    "Of course, temperament and motivation are individual; no education hinders one's ability to obtain a federal judicial appointment, and name recognition does not guarantee a seat on the bench.\n",
    "\n",
    "Most judges of federal courts are first appointed to US district courts. Many judges of courts of appeals are nominated after service in a district court. There are currently 94 federal judicial districts with 3 being territorial districts. There are 13 courts of appeals. The vast majority of caseloads that reach the Supreme Court originate in federal district courts and pass through circuit courts. As such, the current and future catalog of federal judicial precedent is largely shaped by these lower courts.\n",
    "\n",
    "This project examines a single factor - law school education - that goes into getting the first federal judicial appointment. It considers only the first appointment and not any subsequent reappointments or elevations.\n",
    "\n",
    "Sources of error are noted at the bottom. Try it out!\n",
    "\n"
   ]
  },
  {
   "cell_type": "markdown",
   "metadata": {},
   "source": [
    "Data from https://www.fjc.gov/history/judges/biographical-directory-article-iii-federal-judges-export\n",
    "Education (CSV file)\n",
    "Organized by Judge (CSV file)"
   ]
  },
  {
   "cell_type": "markdown",
   "metadata": {},
   "source": [
    "### 1. T14 your only choice? Law school rankings to federal judicial appointments"
   ]
  },
  {
   "cell_type": "markdown",
   "metadata": {},
   "source": []
  },
  {
   "cell_type": "code",
   "execution_count": 1,
   "metadata": {
    "scrolled": false
   },
   "outputs": [],
   "source": [
    "\"\"\"Preliminaries: education.csv, judges.csv from dataset.\"\"\"\n",
    "import pandas as pd\n",
    "\n",
    "df = pd.read_csv(\"education.csv\")\n",
    "df2 = pd.read_csv(\"judges.csv\")\n",
    "\n",
    "df[\"Degree Year\"] = pd.to_numeric(df[\"Degree Year\"], errors = \"coerce\")\n",
    "\n",
    "df.set_index(\"nid\", inplace = True, drop = False)\n",
    "df2.set_index(\"nid\", inplace = True, drop = False)\n"
   ]
  },
  {
   "cell_type": "code",
   "execution_count": 2,
   "metadata": {
    "scrolled": false
   },
   "outputs": [],
   "source": [
    "def name_correction(dataframe):\n",
    "    \"\"\"These are common repeats. Columbia MAY refer to a different school, \n",
    "    but anecdotally, I only found one. \"\"\"\n",
    "    \n",
    "    dataframe = dataframe.replace([\"Harvard College\", \"Radcliffe College\", \"Yale College\", \n",
    "                                   \"Georgetown University School of Foreign Service\", \"Columbia College\", \n",
    "                                   \"Louisiana State University, Paul M. Hebert Law Center\"], \n",
    "                                  [\"Harvard University\", \"Harvard University\", \"Yale University\", \n",
    "                                   \"Georgetown University\", \"Columbia University\", \n",
    "                                   \"Louisiana State University Law School\"])\n",
    "    \n",
    "    return dataframe\n",
    "\n",
    "def by_president(presidents = [\"Barack Obama\", \"Donald J. Trump\"]):\n",
    "    \"\"\" List the full name of the appointing presidents as listed in the csv. Returns a dataframe\n",
    "    of the appointees with Index(['nid', 'Sequence', 'Judge Name', 'School', 'Degree', 'Degree Year',\n",
    "       'Court Name']\"\"\"\n",
    "    \n",
    "    if type(presidents) != list: # single name\n",
    "        presidents = [presidents]\n",
    "        \n",
    "    nominees_id = df2[df2[\"Appointing President (1)\"].isin(presidents)][\"nid\"]\n",
    "    education = df[df[\"nid\"].isin(nominees_id)]\n",
    "    education = name_correction(education)\n",
    "\n",
    "    court = df2[df2[\"Appointing President (1)\"].isin(presidents)][\"Court Name (1)\"]\n",
    "\n",
    "    education[\"Court Name\"] = court\n",
    "    \n",
    "    return education"
   ]
  },
  {
   "cell_type": "code",
   "execution_count": 3,
   "metadata": {
    "scrolled": false
   },
   "outputs": [],
   "source": [
    "def degree_parse(dataframe, degree = \"UG\", include_LLB = True):\n",
    "    \"\"\"Specify degree: UG or Law. LLB degrees are frequent up to the Clinton appointee era.\"\"\" \n",
    "    if degree not in [\"UG\", \"Law\"]: raise NotImplementedError\n",
    "\n",
    "    undergrad = dataframe[dataframe[\"Sequence\"] == 1]\n",
    "    \n",
    "    \n",
    "    if include_LLB:\n",
    "        law = dataframe[dataframe[\"Degree\"].isin([\"J.D.\", \"LL.B.\"])]\n",
    "    else:\n",
    "        law = dataframe[dataframe[\"Degree\"] == \"J.D.\"]\n",
    "        \n",
    "    if len(law) != len(undergrad):\n",
    "        print(\"UserWarning: law school number: \" + str(len(law))\n",
    "        + \" undergrad institution: \" + str(len(undergrad))\n",
    "        + \"\"\"\\nUndergrad Institution relies on degree sequence, which may be\n",
    "        inaccurate. Law is parsed by J.D., while older law degrees may be LL.B.\"\"\")\n",
    "    \n",
    "    return undergrad if (degree == \"UG\") else law"
   ]
  },
  {
   "cell_type": "code",
   "execution_count": 4,
   "metadata": {
    "scrolled": false
   },
   "outputs": [],
   "source": [
    "presidents = [\"Barack Obama\", \"William J. Clinton\", \"George W. Bush\", \"Donald J. Trump\"]"
   ]
  },
  {
   "cell_type": "code",
   "execution_count": 5,
   "metadata": {
    "scrolled": false
   },
   "outputs": [],
   "source": [
    "def count(dataframe):\n",
    "    return dataframe[\"School\"].value_counts()"
   ]
  },
  {
   "cell_type": "markdown",
   "metadata": {},
   "source": [
    "First, let's group the 4 most recent presidents together.\n",
    "\n",
    "\n",
    "1. Import two lists of judges: One with the judges' education data, the other containing a lot of other info.\n",
    "2. Run function ```by_president(presidents)``` to get a pandas dataframe of the confirmed nominees of all 4 presidents. Includes Name, School, Degree, Year, and Court Name.\n",
    "\n",
    "3. Put the pandas dataframe into ```degree_parse()``` and specify the degree type. We'll analyze the law degrees.\n",
    "4. Count the degree numbers."
   ]
  },
  {
   "cell_type": "code",
   "execution_count": 6,
   "metadata": {
    "scrolled": false
   },
   "outputs": [],
   "source": [
    "judges = by_president(presidents)\n",
    "judges = degree_parse(judges, degree = \"Law\")\n",
    "law_schools = count(judges)"
   ]
  },
  {
   "cell_type": "code",
   "execution_count": 7,
   "metadata": {
    "scrolled": false
   },
   "outputs": [
    {
     "data": {
      "text/plain": [
       "count    162.000000\n",
       "mean       6.543210\n",
       "std       10.012476\n",
       "min        1.000000\n",
       "25%        2.000000\n",
       "50%        4.000000\n",
       "75%        7.000000\n",
       "max       97.000000\n",
       "Name: School, dtype: float64"
      ]
     },
     "execution_count": 7,
     "metadata": {},
     "output_type": "execute_result"
    }
   ],
   "source": [
    "law_schools.describe()"
   ]
  },
  {
   "cell_type": "markdown",
   "metadata": {},
   "source": [
    "162 schools send an average of 6.5 judges, with an interquartile range of 5."
   ]
  },
  {
   "cell_type": "code",
   "execution_count": 8,
   "metadata": {
    "scrolled": false
   },
   "outputs": [
    {
     "data": {
      "text/plain": [
       "Harvard Law School                                              97\n",
       "Yale Law School                                                 58\n",
       "Georgetown University Law Center                                36\n",
       "University of Texas School of Law                               25\n",
       "Stanford Law School                                             24\n",
       "University of Virginia School of Law                            23\n",
       "Columbia Law School                                             19\n",
       "University of California, Berkeley, Boalt Hall School of Law    18\n",
       "Louisiana State University Law School                           18\n",
       "University of Michigan Law School                               18\n",
       "University of California, Los Angeles, School of Law            18\n",
       "Vanderbilt University Law School                                17\n",
       "University of Georgia School of Law                             16\n",
       "University of Pennsylvania Law School                           16\n",
       "New York University School of Law                               15\n",
       "Cornell Law School                                              15\n",
       "University of Florida College of Law                            14\n",
       "Notre Dame Law School                                           14\n",
       "Northwestern University School of Law                           14\n",
       "University of Chicago Law School                                14\n",
       "Name: School, dtype: int64"
      ]
     },
     "execution_count": 8,
     "metadata": {},
     "output_type": "execute_result"
    }
   ],
   "source": [
    "law_schools.head(20)"
   ]
  },
  {
   "cell_type": "markdown",
   "metadata": {},
   "source": [
    "Some suprising information at this stage: A non-T14 (barely cracking T100 for that matter) law school (Louisiana State University) has better placement than several T14 law schools. (I had to go back and combine the data for Paul M. Hebert and LSU)."
   ]
  },
  {
   "cell_type": "markdown",
   "metadata": {
    "collapsed": true
   },
   "source": [
    "Two law schools punching below their weight, or \"ranking\": University of Chicago, with only 14 judges, and Washington University in St. Louis, coming in at only 6 judges.\n",
    "\n",
    "\n",
    "In short: among the top 14 Law Schools as ranked by US News this year, Harvard and Yale naturally claim the top 2 spots; I was surprised to see UT well represented. UVA, Michigan, UCBerkeley, UCLA are well represented; I see why Vanderbilt is regarded as a Southern Powerhouse; Georgetown, although with the same class size as Harvard, is well represented; UPenn punches below its weight.\n",
    "\n",
    "Two notable schools punching above their weight: West Virginia, Seton Hall. First conclusion? The federal judiciary is more than an exclusive club with elite law school credentials.\n"
   ]
  },
  {
   "cell_type": "markdown",
   "metadata": {},
   "source": [
    "Of course, the Harvard and Yale (and Georgetown) name is nothing to scoff at:"
   ]
  },
  {
   "cell_type": "code",
   "execution_count": 9,
   "metadata": {
    "scrolled": false
   },
   "outputs": [
    {
     "data": {
      "text/plain": [
       "<matplotlib.axes._subplots.AxesSubplot at 0x7f94a5982978>"
      ]
     },
     "execution_count": 9,
     "metadata": {},
     "output_type": "execute_result"
    },
    {
     "data": {
      "image/png": "[encoded data removed]",
      "text/plain": [
       "<Figure size 432x288 with 1 Axes>"
      ]
     },
     "metadata": {
      "needs_background": "light"
     },
     "output_type": "display_data"
    }
   ],
   "source": [
    "%matplotlib inline\n",
    "law_schools.head(14).plot(kind = \"bar\")"
   ]
  },
  {
   "cell_type": "markdown",
   "metadata": {},
   "source": [
    "But if you compare every other law school to the top 15 represented..."
   ]
  },
  {
   "cell_type": "code",
   "execution_count": 10,
   "metadata": {
    "scrolled": false
   },
   "outputs": [
    {
     "data": {
      "image/png": "[encoded data removed]",
      "text/plain": [
       "<Figure size 432x288 with 1 Axes>"
      ]
     },
     "metadata": {
      "needs_background": "light"
     },
     "output_type": "display_data"
    }
   ],
   "source": [
    "l = law_schools.copy(deep = True)\n",
    "l.loc[\"Non T14 Law School\"] = law_schools[15:].sum()\n",
    "l.sort_values(ascending = False).head(16).plot(kind = \"bar\")\n",
    "del l[\"Non T14 Law School\"]"
   ]
  },
  {
   "cell_type": "markdown",
   "metadata": {},
   "source": [
    "For a better perspective, if you compare the top 30 represented..."
   ]
  },
  {
   "cell_type": "code",
   "execution_count": 11,
   "metadata": {
    "scrolled": false
   },
   "outputs": [
    {
     "data": {
      "image/png": "[encoded data removed]",
      "text/plain": [
       "<Figure size 432x288 with 1 Axes>"
      ]
     },
     "metadata": {
      "needs_background": "light"
     },
     "output_type": "display_data"
    }
   ],
   "source": [
    "l.loc[\"Non T30 Law School\"] = law_schools[30:].sum()\n",
    "l.sort_values(ascending = False).head(31).plot(kind = \"bar\")\n",
    "del l[\"Non T30 Law School\"]"
   ]
  },
  {
   "cell_type": "markdown",
   "metadata": {},
   "source": [
    "__The conclusion?__\n",
    "\n",
    "### You can succeed anywhere.\n",
    "\n",
    "In fact, go back and look at ``` law_schools.describe() ``` : You'll see that there are 162 unique schools (maybe a duplicate or two), but that still means graduates of law schools *not in the top 150* obtained a federal judicial appointment.\n",
    "\n",
    "(SCOTUS is a different matter; in that case, Harvard or Yale is strongly recommended, for both college and law)"
   ]
  },
  {
   "cell_type": "markdown",
   "metadata": {},
   "source": [
    "This is an interesting graph of all law schools sending 10 or more to the bench:"
   ]
  },
  {
   "attachments": {
    "ranking_appointees.png": {
     "image/png": "[encoded data removed]"
    }
   },
   "cell_type": "markdown",
   "metadata": {},
   "source": [
    "![ranking vs appointees](attachment:ranking_appointees.png)"
   ]
  },
  {
   "cell_type": "markdown",
   "metadata": {},
   "source": [
    "### 2. Partisan differences\n",
    "\n",
    "__Summary:__\n",
    "\n",
    "__Trump appointees are more likely to have a degree from an institution within their district.__\n",
    "\n",
    "__Obama appointees are more likely to have a degree from a US News T14 institution.__\n"
   ]
  },
  {
   "cell_type": "code",
   "execution_count": 12,
   "metadata": {
    "scrolled": false
   },
   "outputs": [],
   "source": [
    "all_t14 = [\"Harvard Law School\", \"Yale Law School\", \"Stanford Law School\", \n",
    "           \"University of California, Berkeley, Boalt Hall School of Law\", \n",
    "           \"University of Pennsylvania Law School\", \"Georgetown University Law Center\", \n",
    "           \"New York University School of Law\", \"University of Texas School of Law\", \n",
    "           \"University of Virginia School of Law\", \"Columbia Law School\", \"University of Michigan Law School\", \n",
    "           \"Northwestern University School of Law\", \"Duke University School of Law\", \n",
    "           \"University of Chicago Law School\", \"Cornell Law School\"]\n",
    "#15 institutions are commonly regarded as comprising the \"T14\"."
   ]
  },
  {
   "cell_type": "markdown",
   "metadata": {},
   "source": [
    "To break down the differences between Republican and Democratic appointees, let's examine the appointees of each president."
   ]
  },
  {
   "cell_type": "code",
   "execution_count": 13,
   "metadata": {
    "scrolled": true
   },
   "outputs": [],
   "source": [
    "Trump_law = degree_parse(by_president(\"Donald J. Trump\"), \"Law\")\n",
    "Obama_law = degree_parse(by_president(\"Barack Obama\"), \"Law\")\n",
    "Bush_law = degree_parse(by_president(\"George W. Bush\"), \"Law\")\n",
    "Clinton_law = degree_parse(by_president(\"William J. Clinton\"), \"Law\")"
   ]
  },
  {
   "cell_type": "markdown",
   "metadata": {},
   "source": [
    "Obama has 308 distinct nominees in the dataset. As of this writing, Trump has 85 distinct confirmed nominees on the dataset. We can examine each individually."
   ]
  },
  {
   "cell_type": "code",
   "execution_count": 14,
   "metadata": {
    "scrolled": false
   },
   "outputs": [
    {
     "data": {
      "text/plain": [
       "Harvard Law School                        7\n",
       "University of Alabama School of Law       6\n",
       "University of Chicago Law School          6\n",
       "Vanderbilt University Law School          4\n",
       "University of Georgia School of Law       4\n",
       "Yale Law School                           3\n",
       "Duke University School of Law             3\n",
       "University of Texas School of Law         3\n",
       "Northwestern University School of Law     3\n",
       "University of Pittsburgh School of Law    2\n",
       "Name: School, dtype: int64"
      ]
     },
     "execution_count": 14,
     "metadata": {},
     "output_type": "execute_result"
    }
   ],
   "source": [
    "count(Trump_law).head(10)"
   ]
  },
  {
   "cell_type": "markdown",
   "metadata": {},
   "source": [
    "For the next demo, I've exported the dataset and added booleans for two categories:\n",
    "\n",
    "1. Whether the nominee obtained his degree in the district.\n",
    "2. Whether the nominee went to a \"USNews T14\" school (15 total, fluctuates every year).\n",
    "\n",
    "*Note that this was done by hand, and with only one validation pass.*\n",
    "\n",
    "__Methology for #1:__\n",
    "\n",
    "__To be \"In the district\", the school is located in the same state as the district court or is in the area of the appeals court.__\n",
    "\n",
    "Example 1: The University of Kansas is not in the Eighth Circuit, even though it borders it. Hence, \"In District\" is false.\n",
    "\n",
    "Example 2: Yale is not in the Third Circuit.\n",
    "\n",
    "Example 3: Even though Vanderbilt is not in the Western District of Tennessee, it is in the state of Tennessee, and hence is True for \"In District\".\n",
    "\n",
    "Example 4: The Court of Appeals for the Federal Circuit is in D.C., so Georgetown and Howard would count as \"In District\"."
   ]
  },
  {
   "cell_type": "code",
   "execution_count": 15,
   "metadata": {
    "scrolled": false
   },
   "outputs": [],
   "source": [
    "Trump_law = pd.read_csv(\"Trump_law.csv\")\n",
    "Obama_law = pd.read_csv(\"Obama_law.csv\")\n",
    "#Imported manually updated counts"
   ]
  },
  {
   "cell_type": "code",
   "execution_count": 16,
   "metadata": {
    "scrolled": false
   },
   "outputs": [
    {
     "name": "stdout",
     "output_type": "stream",
     "text": [
      "Percent of Trump Appointees with law degrees from the district they serve: 52.941\n",
      "Percent of Obama Appointees with law degrees from the district serve: 47.727\n"
     ]
    }
   ],
   "source": [
    "print(\"Percent of Trump Appointees with law degrees from the district they serve: \" + \n",
    "      str(round(100 * Trump_law[\"In District\"].sum()/len(Trump_law), 3)))\n",
    "\n",
    "print(\"Percent of Obama Appointees with law degrees from the district serve: \" + \n",
    "      str(round(100 * Obama_law[\"In District\"].sum()/len(Obama_law), 3)))"
   ]
  },
  {
   "cell_type": "code",
   "execution_count": 17,
   "metadata": {
    "scrolled": false
   },
   "outputs": [
    {
     "name": "stdout",
     "output_type": "stream",
     "text": [
      "Percent of Trump Appointees with law degrees from T14 schools: 37.647\n",
      "Percent of Obama Appointees with law degrees from T14 schools: 43.506\n"
     ]
    }
   ],
   "source": [
    "print(\"Percent of Trump Appointees with law degrees from T14 schools: \" + \n",
    "      str(round(100 * Trump_law[\"T14 Law School\"].sum()/len(Trump_law), 3)))\n",
    "\n",
    "print(\"Percent of Obama Appointees with law degrees from T14 schools: \" + \n",
    "      str(round(100 * Obama_law[\"T14 Law School\"].sum()/len(Obama_law), 3)))"
   ]
  },
  {
   "cell_type": "markdown",
   "metadata": {},
   "source": [
    "### 3.  Locality is Important"
   ]
  },
  {
   "cell_type": "markdown",
   "metadata": {},
   "source": [
    "While assigning True/False to the conditions above, I noticed that LSU was a great feeder for Louisiana Courts. Perhaps Louisiana senators take particular care that their recommendations are from LSU? "
   ]
  },
  {
   "cell_type": "markdown",
   "metadata": {},
   "source": [
    "Anecdotally, Harvard, Yale, Georgetown and Stanford are very versatile degrees. With rare exceptions, lawyers holding degrees from these institutions are able to secure nominations nationwide. As the list goes down, it gets harder and harder to get a federal judicial appointment outside of the states of those schools.\n",
    "\n",
    "Let's put some numbers to that."
   ]
  },
  {
   "cell_type": "code",
   "execution_count": 18,
   "metadata": {
    "scrolled": true
   },
   "outputs": [
    {
     "name": "stdout",
     "output_type": "stream",
     "text": [
      "Percent of Obama Appointees with law degrees from T14 schools or from the district they serve: 78.896\n",
      "Percent of Trump Appointees with law degrees from T14 schools or from the district they serve: 83.529\n"
     ]
    }
   ],
   "source": [
    "def inclusive_or(dataframe):\n",
    "    return (dataframe[\"In District\"] | dataframe[\"T14 Law School\"]).sum()/len(dataframe)\n",
    "\n",
    "print(\"Percent of Obama Appointees with law degrees from T14 schools or from the district they serve: \" + \n",
    "      str(round(100 * inclusive_or(Obama_law), 3)))\n",
    "print(\"Percent of Trump Appointees with law degrees from T14 schools or from the district they serve: \" + \n",
    "      str(round(100 * inclusive_or(Trump_law), 3)))"
   ]
  },
  {
   "cell_type": "markdown",
   "metadata": {},
   "source": [
    "From my perspective, these numbers are actually an __underrepresentation__ of the importance of locality: For example, an appointee may hold a degree from Vanderbilt and be appointed to a Mississippi district court - but Vanderbilt carries just as much weight in Mississippi as its own state schools.\n",
    "\n",
    "Getting a degree from Marquette University Law School, going into practice and being eventually appointed to a court in the 4th Circuit is rare indeed. (This judge in particular, James Andrew Wynn, obtained two other degrees in the region of the circuit)."
   ]
  },
  {
   "cell_type": "markdown",
   "metadata": {},
   "source": [
    "### 4. A Quick Summary of Undergrad Institutions\n",
    "\n"
   ]
  },
  {
   "cell_type": "code",
   "execution_count": 19,
   "metadata": {
    "scrolled": false
   },
   "outputs": [],
   "source": [
    "undergrad = degree_parse(by_president(presidents))\n",
    "Trump_undergrad = degree_parse(by_president(\"Donald J. Trump\"))\n",
    "Obama_undergrad = degree_parse(by_president(\"Barack Obama\"))\n",
    "Bush_undergrad = degree_parse(by_president(\"George W. Bush\"))\n",
    "Clinton_undergrad = degree_parse(by_president(\"William J. Clinton\"))"
   ]
  },
  {
   "cell_type": "code",
   "execution_count": 20,
   "metadata": {
    "scrolled": false
   },
   "outputs": [
    {
     "data": {
      "text/plain": [
       "Harvard University                       45\n",
       "Yale University                          30\n",
       "Stanford University                      20\n",
       "University of Michigan                   19\n",
       "Princeton University                     19\n",
       "Georgetown University                    19\n",
       "University of Notre Dame                 17\n",
       "Cornell University                       15\n",
       "University of Texas                      14\n",
       "Columbia University                      14\n",
       "Brigham Young University                 14\n",
       "University of California, Los Angeles    13\n",
       "University of North Carolina             11\n",
       "University of Pennsylvania               11\n",
       "University of California, Berkeley       11\n",
       "Louisiana State University               11\n",
       "Duke University                          10\n",
       "Rutgers University                       10\n",
       "Vanderbilt University                     9\n",
       "University of Illinois                    9\n",
       "University of Oklahoma                    9\n",
       "Brown University                          8\n",
       "Dartmouth College                         8\n",
       "Howard University                         8\n",
       "West Virginia University                  8\n",
       "Name: School, dtype: int64"
      ]
     },
     "execution_count": 20,
     "metadata": {},
     "output_type": "execute_result"
    }
   ],
   "source": [
    "count(undergrad).head(25)"
   ]
  },
  {
   "cell_type": "markdown",
   "metadata": {},
   "source": [
    "Perhaps \"But Harvard\" is a reason in and of itself. Thanks in no small part to their law schools, Harvard, Yale, Stanford and Georgetown top the lists."
   ]
  },
  {
   "cell_type": "code",
   "execution_count": 21,
   "metadata": {
    "scrolled": false
   },
   "outputs": [
    {
     "data": {
      "text/plain": [
       "count    414.000000\n",
       "mean       2.560386\n",
       "std        3.844429\n",
       "min        1.000000\n",
       "25%        1.000000\n",
       "50%        1.000000\n",
       "75%        2.000000\n",
       "max       45.000000\n",
       "Name: School, dtype: float64"
      ]
     },
     "execution_count": 21,
     "metadata": {},
     "output_type": "execute_result"
    }
   ],
   "source": [
    "count(undergrad).describe()"
   ]
  },
  {
   "cell_type": "code",
   "execution_count": 22,
   "metadata": {
    "scrolled": false
   },
   "outputs": [
    {
     "data": {
      "text/plain": [
       "B.A.          710\n",
       "B.S.          153\n",
       "A.B.          112\n",
       "A.A.           20\n",
       "B.B.A.         17\n",
       "B.S.B.A.        6\n",
       "B.S.E.          3\n",
       "B.S.F.S.        3\n",
       "B.A., B.S.      2\n",
       "Name: Degree, dtype: int64"
      ]
     },
     "execution_count": 22,
     "metadata": {},
     "output_type": "execute_result"
    }
   ],
   "source": [
    "undergrad[\"Degree\"].value_counts().head(9)\n",
    "#Some Clinton appointees don't have undergrad listed"
   ]
  },
  {
   "cell_type": "code",
   "execution_count": 23,
   "metadata": {
    "scrolled": false
   },
   "outputs": [
    {
     "data": {
      "text/plain": [
       "Trinity University, San Antonio, Texas    3\n",
       "Vanderbilt University                     3\n",
       "University of Notre Dame                  2\n",
       "Brigham Young University                  2\n",
       "Rhodes College                            2\n",
       "Louisiana State University                2\n",
       "University of Alabama                     2\n",
       "Yale University                           2\n",
       "Pennsylvania State University             2\n",
       "Stanford University                       2\n",
       "The Citadel                               2\n",
       "Wake Forest University                    2\n",
       "University of Texas                       2\n",
       "Duke University                           2\n",
       "Davidson College                          2\n",
       "Columbia University                       2\n",
       "Texas Tech University                     2\n",
       "Georgetown University                     2\n",
       "U.S. Naval Academy                        2\n",
       "Tulane University                         1\n",
       "Name: School, dtype: int64"
      ]
     },
     "execution_count": 23,
     "metadata": {},
     "output_type": "execute_result"
    }
   ],
   "source": [
    "Trump_undergrad[\"School\"].value_counts().head(20)"
   ]
  },
  {
   "cell_type": "code",
   "execution_count": 24,
   "metadata": {
    "scrolled": false
   },
   "outputs": [
    {
     "data": {
      "text/plain": [
       "Harvard University                       24\n",
       "Yale University                          17\n",
       "University of Michigan                   10\n",
       "University of Illinois                    6\n",
       "Princeton University                      6\n",
       "Rutgers University                        6\n",
       "University of California, Berkeley        5\n",
       "Stanford University                       5\n",
       "Cornell University                        5\n",
       "Georgetown University                     4\n",
       "Duke University                           4\n",
       "College of William and Mary               4\n",
       "University of California, Los Angeles     4\n",
       "Brown University                          4\n",
       "Vanderbilt University                     3\n",
       "Williams College                          3\n",
       "Dartmouth College                         3\n",
       "University of Iowa                        3\n",
       "Villanova University                      3\n",
       "University of Notre Dame                  3\n",
       "Columbia University                       3\n",
       "University of Wisconsin                   3\n",
       "University of Wyoming                     3\n",
       "Indiana University                        3\n",
       "University of Arkansas                    3\n",
       "Name: School, dtype: int64"
      ]
     },
     "execution_count": 24,
     "metadata": {},
     "output_type": "execute_result"
    }
   ],
   "source": [
    "Obama_undergrad[\"School\"].value_counts().head(25)"
   ]
  },
  {
   "cell_type": "code",
   "execution_count": 25,
   "metadata": {
    "scrolled": false
   },
   "outputs": [
    {
     "data": {
      "text/plain": [
       "Stanford University                      9\n",
       "Georgetown University                    8\n",
       "Brigham Young University                 8\n",
       "University of Texas                      6\n",
       "University of North Carolina             6\n",
       "Princeton University                     6\n",
       "University of Notre Dame                 6\n",
       "Yale University                          5\n",
       "Northwestern University                  5\n",
       "Harvard University                       5\n",
       "University of Alabama                    4\n",
       "Cornell University                       4\n",
       "University of Oklahoma                   4\n",
       "University of Georgia                    3\n",
       "Wake Forest University                   3\n",
       "University of California, Los Angeles    3\n",
       "Baylor University                        3\n",
       "University of Tennessee                  3\n",
       "Wesleyan University                      3\n",
       "University of Pennsylvania               3\n",
       "University of California, Berkeley       3\n",
       "Marquette University                     3\n",
       "Indiana University                       3\n",
       "University of Illinois                   3\n",
       "University of Michigan                   3\n",
       "Name: School, dtype: int64"
      ]
     },
     "execution_count": 25,
     "metadata": {},
     "output_type": "execute_result"
    }
   ],
   "source": [
    "Bush_undergrad[\"School\"].value_counts().head(25)"
   ]
  },
  {
   "cell_type": "code",
   "execution_count": 26,
   "metadata": {
    "scrolled": false
   },
   "outputs": [
    {
     "data": {
      "text/plain": [
       "Harvard University                       15\n",
       "Columbia University                       7\n",
       "Yale University                           6\n",
       "University of California, Los Angeles     6\n",
       "University of Florida                     6\n",
       "University of Notre Dame                  6\n",
       "Princeton University                      6\n",
       "Georgetown University                     5\n",
       "Howard University                         5\n",
       "University of Kansas                      5\n",
       "Wellesley College                         5\n",
       "Louisiana State University                5\n",
       "Cornell University                        5\n",
       "University of Michigan                    5\n",
       "University of Pennsylvania                5\n",
       "West Virginia University                  4\n",
       "University of Virginia                    4\n",
       "Stanford University                       4\n",
       "University of Arkansas                    3\n",
       "University of California, Berkeley        3\n",
       "Rutgers University                        3\n",
       "Brown University                          3\n",
       "University of Missouri                    3\n",
       "University of North Carolina              3\n",
       "Ohio State University                     3\n",
       "Name: School, dtype: int64"
      ]
     },
     "execution_count": 26,
     "metadata": {},
     "output_type": "execute_result"
    }
   ],
   "source": [
    "Clinton_undergrad[\"School\"].value_counts().head(25)"
   ]
  },
  {
   "cell_type": "code",
   "execution_count": 27,
   "metadata": {
    "scrolled": false
   },
   "outputs": [],
   "source": [
    "#Use the modules to experiment with data; code is also available in a separate python script."
   ]
  },
  {
   "cell_type": "markdown",
   "metadata": {},
   "source": [
    "### Conclusions:\n",
    "\n",
    "Degrees from top schools are versatile and carry name recognition that make it easy to practice nationally. Degrees from regional schools have regional appeal, and thus lawyers who go to those schools choose to practice and succeed locally.\n",
    "\n",
    "For applicants interested in federal judicial service, they should compare the number of appointments to class sizes of each law school.\n",
    "\n",
    "There is an interesting question of cause and effect. An aspiring law school applicant must consider the economic factor of attending law school. If a lower-ranked school provides significant merit aid, the applicant may pass over a higher ranked school.\n",
    "\n",
    "Questions to ponder after this project is, how much does an applicant stand to lose from not attending a prestigious law school in favor of a lower-ranked, but financially affordable school? What goals does the applicant have for acquiring the degree? If the end result is a federal judicial appointment, picking the school in the district he or she aspires to serve in may be a wise choice - but if the goal is SCOTUS, Harvard and Yale are statistically insurmountable."
   ]
  },
  {
   "cell_type": "markdown",
   "metadata": {},
   "source": [
    "Sources of error may be found in the dataset, although a statistically significant amount was verified by hand. LLB degrees and JD degrees are contained, but accuracy is not guaranteed for pre-Clinton era nominations. I did my best to make sure there are no statistically significant repeats (like with LSU), but I cannot guarantee accuracy. ``` name_correction(dataframe) ``` corrects statistically siginificant duplicates that I found.\n",
    "\n",
    "Top law schools are diversifying the undergrad institutional representation of their student body, but admission remains largely a factor of LSAT and GPA."
   ]
  }
 ],
 "metadata": {
  "kernelspec": {
   "display_name": "Python 3",
   "language": "python",
   "name": "python3"
  },
  "language_info": {
   "codemirror_mode": {
    "name": "ipython",
    "version": 3
   },
   "file_extension": ".py",
   "mimetype": "text/x-python",
   "name": "python",
   "nbconvert_exporter": "python",
   "pygments_lexer": "ipython3",
   "version": "3.7.1"
  }
 },
 "nbformat": 4,
 "nbformat_minor": 2
}
